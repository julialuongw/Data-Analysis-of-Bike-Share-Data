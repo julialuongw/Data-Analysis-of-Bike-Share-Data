{
 "cells": [
  {
   "cell_type": "code",
   "execution_count": 1,
   "metadata": {},
   "outputs": [],
   "source": [
    "import pandas as pd\n",
    "import numpy as np\n",
    "from scipy import stats\n",
    "\n",
    "# viz\n",
    "#import seaborn as sns\n",
    "import matplotlib.pyplot as plt\n",
    "%matplotlib inline\n",
    "\n",
    "import zipfile"
   ]
  },
  {
   "cell_type": "markdown",
   "metadata": {},
   "source": [
    "# Read in the Data\n",
    "We choose to analyze the entire 2022 Bicyclistic dataset. "
   ]
  },
  {
   "cell_type": "code",
   "execution_count": 2,
   "metadata": {},
   "outputs": [
    {
     "name": "stdout",
     "output_type": "stream",
     "text": [
      "Reading in 2022, month 1\n",
      "Reading in 2022, month 2\n",
      "Reading in 2022, month 3\n",
      "Reading in 2022, month 4\n",
      "Reading in 2022, month 5\n",
      "Reading in 2022, month 6\n",
      "Reading in 2022, month 7\n",
      "Reading in 2022, month 8\n",
      "Reading in 2022, month 9\n",
      "Reading in 2022, month 10\n",
      "Reading in 2022, month 11\n",
      "Reading in 2022, month 12\n"
     ]
    },
    {
     "data": {
      "text/html": [
       "<div>\n",
       "<style scoped>\n",
       "    .dataframe tbody tr th:only-of-type {\n",
       "        vertical-align: middle;\n",
       "    }\n",
       "\n",
       "    .dataframe tbody tr th {\n",
       "        vertical-align: top;\n",
       "    }\n",
       "\n",
       "    .dataframe thead th {\n",
       "        text-align: right;\n",
       "    }\n",
       "</style>\n",
       "<table border=\"1\" class=\"dataframe\">\n",
       "  <thead>\n",
       "    <tr style=\"text-align: right;\">\n",
       "      <th></th>\n",
       "      <th>ride_id</th>\n",
       "      <th>rideable_type</th>\n",
       "      <th>started_at</th>\n",
       "      <th>ended_at</th>\n",
       "      <th>start_station_name</th>\n",
       "      <th>start_station_id</th>\n",
       "      <th>end_station_name</th>\n",
       "      <th>end_station_id</th>\n",
       "      <th>start_lat</th>\n",
       "      <th>start_lng</th>\n",
       "      <th>end_lat</th>\n",
       "      <th>end_lng</th>\n",
       "      <th>member_casual</th>\n",
       "    </tr>\n",
       "  </thead>\n",
       "  <tbody>\n",
       "    <tr>\n",
       "      <th>0</th>\n",
       "      <td>C2F7DD78E82EC875</td>\n",
       "      <td>electric_bike</td>\n",
       "      <td>2022-01-13 11:59:47</td>\n",
       "      <td>2022-01-13 12:02:44</td>\n",
       "      <td>Glenwood Ave &amp; Touhy Ave</td>\n",
       "      <td>525</td>\n",
       "      <td>Clark St &amp; Touhy Ave</td>\n",
       "      <td>RP-007</td>\n",
       "      <td>42.012800</td>\n",
       "      <td>-87.665906</td>\n",
       "      <td>42.012560</td>\n",
       "      <td>-87.674367</td>\n",
       "      <td>casual</td>\n",
       "    </tr>\n",
       "    <tr>\n",
       "      <th>1</th>\n",
       "      <td>A6CF8980A652D272</td>\n",
       "      <td>electric_bike</td>\n",
       "      <td>2022-01-10 08:41:56</td>\n",
       "      <td>2022-01-10 08:46:17</td>\n",
       "      <td>Glenwood Ave &amp; Touhy Ave</td>\n",
       "      <td>525</td>\n",
       "      <td>Clark St &amp; Touhy Ave</td>\n",
       "      <td>RP-007</td>\n",
       "      <td>42.012763</td>\n",
       "      <td>-87.665967</td>\n",
       "      <td>42.012560</td>\n",
       "      <td>-87.674367</td>\n",
       "      <td>casual</td>\n",
       "    </tr>\n",
       "    <tr>\n",
       "      <th>2</th>\n",
       "      <td>BD0F91DFF741C66D</td>\n",
       "      <td>classic_bike</td>\n",
       "      <td>2022-01-25 04:53:40</td>\n",
       "      <td>2022-01-25 04:58:01</td>\n",
       "      <td>Sheffield Ave &amp; Fullerton Ave</td>\n",
       "      <td>TA1306000016</td>\n",
       "      <td>Greenview Ave &amp; Fullerton Ave</td>\n",
       "      <td>TA1307000001</td>\n",
       "      <td>41.925602</td>\n",
       "      <td>-87.653708</td>\n",
       "      <td>41.925330</td>\n",
       "      <td>-87.665800</td>\n",
       "      <td>member</td>\n",
       "    </tr>\n",
       "    <tr>\n",
       "      <th>3</th>\n",
       "      <td>CBB80ED419105406</td>\n",
       "      <td>classic_bike</td>\n",
       "      <td>2022-01-04 00:18:04</td>\n",
       "      <td>2022-01-04 00:33:00</td>\n",
       "      <td>Clark St &amp; Bryn Mawr Ave</td>\n",
       "      <td>KA1504000151</td>\n",
       "      <td>Paulina St &amp; Montrose Ave</td>\n",
       "      <td>TA1309000021</td>\n",
       "      <td>41.983593</td>\n",
       "      <td>-87.669154</td>\n",
       "      <td>41.961507</td>\n",
       "      <td>-87.671387</td>\n",
       "      <td>casual</td>\n",
       "    </tr>\n",
       "    <tr>\n",
       "      <th>4</th>\n",
       "      <td>DDC963BFDDA51EEA</td>\n",
       "      <td>classic_bike</td>\n",
       "      <td>2022-01-20 01:31:10</td>\n",
       "      <td>2022-01-20 01:37:12</td>\n",
       "      <td>Michigan Ave &amp; Jackson Blvd</td>\n",
       "      <td>TA1309000002</td>\n",
       "      <td>State St &amp; Randolph St</td>\n",
       "      <td>TA1305000029</td>\n",
       "      <td>41.877850</td>\n",
       "      <td>-87.624080</td>\n",
       "      <td>41.884621</td>\n",
       "      <td>-87.627834</td>\n",
       "      <td>member</td>\n",
       "    </tr>\n",
       "  </tbody>\n",
       "</table>\n",
       "</div>"
      ],
      "text/plain": [
       "            ride_id  rideable_type           started_at             ended_at   \n",
       "0  C2F7DD78E82EC875  electric_bike  2022-01-13 11:59:47  2022-01-13 12:02:44  \\\n",
       "1  A6CF8980A652D272  electric_bike  2022-01-10 08:41:56  2022-01-10 08:46:17   \n",
       "2  BD0F91DFF741C66D   classic_bike  2022-01-25 04:53:40  2022-01-25 04:58:01   \n",
       "3  CBB80ED419105406   classic_bike  2022-01-04 00:18:04  2022-01-04 00:33:00   \n",
       "4  DDC963BFDDA51EEA   classic_bike  2022-01-20 01:31:10  2022-01-20 01:37:12   \n",
       "\n",
       "              start_station_name start_station_id   \n",
       "0       Glenwood Ave & Touhy Ave              525  \\\n",
       "1       Glenwood Ave & Touhy Ave              525   \n",
       "2  Sheffield Ave & Fullerton Ave     TA1306000016   \n",
       "3       Clark St & Bryn Mawr Ave     KA1504000151   \n",
       "4    Michigan Ave & Jackson Blvd     TA1309000002   \n",
       "\n",
       "                end_station_name end_station_id  start_lat  start_lng   \n",
       "0           Clark St & Touhy Ave         RP-007  42.012800 -87.665906  \\\n",
       "1           Clark St & Touhy Ave         RP-007  42.012763 -87.665967   \n",
       "2  Greenview Ave & Fullerton Ave   TA1307000001  41.925602 -87.653708   \n",
       "3      Paulina St & Montrose Ave   TA1309000021  41.983593 -87.669154   \n",
       "4         State St & Randolph St   TA1305000029  41.877850 -87.624080   \n",
       "\n",
       "     end_lat    end_lng member_casual  \n",
       "0  42.012560 -87.674367        casual  \n",
       "1  42.012560 -87.674367        casual  \n",
       "2  41.925330 -87.665800        member  \n",
       "3  41.961507 -87.671387        casual  \n",
       "4  41.884621 -87.627834        member  "
      ]
     },
     "execution_count": 2,
     "metadata": {},
     "output_type": "execute_result"
    }
   ],
   "source": [
    "datasets_dir = \"C:/Users/vluon/Desktop/Math and Science/Data-Analysis-on-Bike-Sharing-Data/cycle_data/\"\n",
    "dataset_by_year = {}\n",
    "\n",
    "for year in [\"2022\"]: # 2021 will be for later, ML stuff\n",
    "    dfs = [] # to aggregate all the data for year\n",
    "    # read in each month for year\n",
    "    for i in range(1, 12+1):\n",
    "        print(f\"Reading in {year}, month {i}\")\n",
    "        i = f\"0{i}\" if i < 10 else f\"{i}\"    \n",
    "        zf = zipfile.ZipFile(datasets_dir + year + f'/{year}{i}-divvy-tripdata.zip')\n",
    "        dfs.append(pd.read_csv(zf.open(f'{year}{i}-divvy-tripdata.csv')))\n",
    "    dataset_by_year[year] = pd.concat(dfs)\n",
    "\n",
    "dataset_by_year[\"2022\"].head()"
   ]
  },
  {
   "cell_type": "markdown",
   "metadata": {},
   "source": [
    "# Data Cleaning\n",
    "In this section, we check: \n",
    "* consistent data types, \n",
    "* typos/formatting errors in the values or attributes, \n",
    "* duplicates, \n",
    "* missing values, \n",
    "* outliers,\n",
    "* data validation"
   ]
  },
  {
   "cell_type": "markdown",
   "metadata": {},
   "source": [
    "**Validate data types**: We use df.info() to get a read of the datatypes in each column, and convert the \"started_at\" and \"ended_at\" columns to datetime objects. "
   ]
  },
  {
   "cell_type": "code",
   "execution_count": 3,
   "metadata": {},
   "outputs": [
    {
     "name": "stdout",
     "output_type": "stream",
     "text": [
      "<class 'pandas.core.frame.DataFrame'>\n",
      "Index: 5667717 entries, 0 to 181805\n",
      "Data columns (total 13 columns):\n",
      " #   Column              Dtype  \n",
      "---  ------              -----  \n",
      " 0   ride_id             object \n",
      " 1   rideable_type       object \n",
      " 2   started_at          object \n",
      " 3   ended_at            object \n",
      " 4   start_station_name  object \n",
      " 5   start_station_id    object \n",
      " 6   end_station_name    object \n",
      " 7   end_station_id      object \n",
      " 8   start_lat           float64\n",
      " 9   start_lng           float64\n",
      " 10  end_lat             float64\n",
      " 11  end_lng             float64\n",
      " 12  member_casual       object \n",
      "dtypes: float64(4), object(9)\n",
      "memory usage: 605.4+ MB\n"
     ]
    }
   ],
   "source": [
    "df_22 = dataset_by_year[\"2022\"]\n",
    "df_22.info()"
   ]
  },
  {
   "cell_type": "markdown",
   "metadata": {},
   "source": [
    "**Checking missing values**"
   ]
  },
  {
   "cell_type": "code",
   "execution_count": 4,
   "metadata": {},
   "outputs": [
    {
     "data": {
      "text/html": [
       "<div>\n",
       "<style scoped>\n",
       "    .dataframe tbody tr th:only-of-type {\n",
       "        vertical-align: middle;\n",
       "    }\n",
       "\n",
       "    .dataframe tbody tr th {\n",
       "        vertical-align: top;\n",
       "    }\n",
       "\n",
       "    .dataframe thead th {\n",
       "        text-align: right;\n",
       "    }\n",
       "</style>\n",
       "<table border=\"1\" class=\"dataframe\">\n",
       "  <thead>\n",
       "    <tr style=\"text-align: right;\">\n",
       "      <th></th>\n",
       "      <th>ride_id</th>\n",
       "      <th>rideable_type</th>\n",
       "      <th>started_at</th>\n",
       "      <th>ended_at</th>\n",
       "      <th>start_station_name</th>\n",
       "      <th>start_station_id</th>\n",
       "      <th>end_station_name</th>\n",
       "      <th>end_station_id</th>\n",
       "      <th>start_lat</th>\n",
       "      <th>start_lng</th>\n",
       "      <th>end_lat</th>\n",
       "      <th>end_lng</th>\n",
       "      <th>member_casual</th>\n",
       "    </tr>\n",
       "  </thead>\n",
       "  <tbody>\n",
       "    <tr>\n",
       "      <th>256</th>\n",
       "      <td>857B71104B437577</td>\n",
       "      <td>electric_bike</td>\n",
       "      <td>2022-01-04 17:08:16</td>\n",
       "      <td>2022-01-04 17:12:15</td>\n",
       "      <td>NaN</td>\n",
       "      <td>NaN</td>\n",
       "      <td>Lockwood Ave &amp; Wrightwood Ave</td>\n",
       "      <td>312</td>\n",
       "      <td>41.930000</td>\n",
       "      <td>-87.760000</td>\n",
       "      <td>41.930000</td>\n",
       "      <td>-87.7600</td>\n",
       "      <td>casual</td>\n",
       "    </tr>\n",
       "    <tr>\n",
       "      <th>510</th>\n",
       "      <td>88276B47FFBB9910</td>\n",
       "      <td>electric_bike</td>\n",
       "      <td>2022-01-25 07:39:35</td>\n",
       "      <td>2022-01-25 07:41:01</td>\n",
       "      <td>Larrabee St &amp; Kingsbury St</td>\n",
       "      <td>TA1306000009</td>\n",
       "      <td>NaN</td>\n",
       "      <td>NaN</td>\n",
       "      <td>41.897632</td>\n",
       "      <td>-87.643388</td>\n",
       "      <td>41.900000</td>\n",
       "      <td>-87.6400</td>\n",
       "      <td>member</td>\n",
       "    </tr>\n",
       "    <tr>\n",
       "      <th>512</th>\n",
       "      <td>1B66EC28DD618680</td>\n",
       "      <td>electric_bike</td>\n",
       "      <td>2022-01-21 14:26:57</td>\n",
       "      <td>2022-01-21 14:32:17</td>\n",
       "      <td>Central Park Ave &amp; Ohio St</td>\n",
       "      <td>369</td>\n",
       "      <td>NaN</td>\n",
       "      <td>NaN</td>\n",
       "      <td>41.890000</td>\n",
       "      <td>-87.720000</td>\n",
       "      <td>41.900000</td>\n",
       "      <td>-87.7100</td>\n",
       "      <td>member</td>\n",
       "    </tr>\n",
       "    <tr>\n",
       "      <th>979</th>\n",
       "      <td>565EEF32A9B65000</td>\n",
       "      <td>electric_bike</td>\n",
       "      <td>2022-01-11 21:51:25</td>\n",
       "      <td>2022-01-11 21:55:27</td>\n",
       "      <td>NaN</td>\n",
       "      <td>NaN</td>\n",
       "      <td>Ashland Ave &amp; Grace St</td>\n",
       "      <td>13319</td>\n",
       "      <td>41.950000</td>\n",
       "      <td>-87.650000</td>\n",
       "      <td>41.950687</td>\n",
       "      <td>-87.6687</td>\n",
       "      <td>member</td>\n",
       "    </tr>\n",
       "    <tr>\n",
       "      <th>980</th>\n",
       "      <td>C1C1910260144C76</td>\n",
       "      <td>electric_bike</td>\n",
       "      <td>2022-01-05 03:25:22</td>\n",
       "      <td>2022-01-05 03:43:32</td>\n",
       "      <td>NaN</td>\n",
       "      <td>NaN</td>\n",
       "      <td>Ashland Ave &amp; Grace St</td>\n",
       "      <td>13319</td>\n",
       "      <td>41.920000</td>\n",
       "      <td>-87.690000</td>\n",
       "      <td>41.950687</td>\n",
       "      <td>-87.6687</td>\n",
       "      <td>member</td>\n",
       "    </tr>\n",
       "  </tbody>\n",
       "</table>\n",
       "</div>"
      ],
      "text/plain": [
       "              ride_id  rideable_type           started_at   \n",
       "256  857B71104B437577  electric_bike  2022-01-04 17:08:16  \\\n",
       "510  88276B47FFBB9910  electric_bike  2022-01-25 07:39:35   \n",
       "512  1B66EC28DD618680  electric_bike  2022-01-21 14:26:57   \n",
       "979  565EEF32A9B65000  electric_bike  2022-01-11 21:51:25   \n",
       "980  C1C1910260144C76  electric_bike  2022-01-05 03:25:22   \n",
       "\n",
       "                ended_at          start_station_name start_station_id   \n",
       "256  2022-01-04 17:12:15                         NaN              NaN  \\\n",
       "510  2022-01-25 07:41:01  Larrabee St & Kingsbury St     TA1306000009   \n",
       "512  2022-01-21 14:32:17  Central Park Ave & Ohio St              369   \n",
       "979  2022-01-11 21:55:27                         NaN              NaN   \n",
       "980  2022-01-05 03:43:32                         NaN              NaN   \n",
       "\n",
       "                  end_station_name end_station_id  start_lat  start_lng   \n",
       "256  Lockwood Ave & Wrightwood Ave            312  41.930000 -87.760000  \\\n",
       "510                            NaN            NaN  41.897632 -87.643388   \n",
       "512                            NaN            NaN  41.890000 -87.720000   \n",
       "979         Ashland Ave & Grace St          13319  41.950000 -87.650000   \n",
       "980         Ashland Ave & Grace St          13319  41.920000 -87.690000   \n",
       "\n",
       "       end_lat  end_lng member_casual  \n",
       "256  41.930000 -87.7600        casual  \n",
       "510  41.900000 -87.6400        member  \n",
       "512  41.900000 -87.7100        member  \n",
       "979  41.950687 -87.6687        member  \n",
       "980  41.950687 -87.6687        member  "
      ]
     },
     "execution_count": 4,
     "metadata": {},
     "output_type": "execute_result"
    }
   ],
   "source": [
    "df_22[df_22.isnull().any(axis=1)].head()"
   ]
  },
  {
   "cell_type": "code",
   "execution_count": 5,
   "metadata": {},
   "outputs": [
    {
     "data": {
      "text/plain": [
       "ride_id                    0\n",
       "rideable_type              0\n",
       "started_at                 0\n",
       "ended_at                   0\n",
       "start_station_name    833064\n",
       "start_station_id      833064\n",
       "end_station_name      892742\n",
       "end_station_id        892742\n",
       "start_lat                  0\n",
       "start_lng                  0\n",
       "end_lat                 5858\n",
       "end_lng                 5858\n",
       "member_casual              0\n",
       "dtype: int64"
      ]
     },
     "execution_count": 5,
     "metadata": {},
     "output_type": "execute_result"
    }
   ],
   "source": [
    "df_22.isnull().sum()\n",
    "# We find no critical missing information. "
   ]
  },
  {
   "cell_type": "markdown",
   "metadata": {},
   "source": [
    "**Creating new attributes**"
   ]
  },
  {
   "cell_type": "code",
   "execution_count": 6,
   "metadata": {},
   "outputs": [],
   "source": [
    "# Constants/Helpers\n",
    "def get_day(k: int, long: bool = False) -> str:\n",
    "    # Type checks\n",
    "    if not isinstance(k, int):\n",
    "        raise TypeError(\"Parameter 'k' must be an integer. \")\n",
    "    elif not isinstance(long, bool):\n",
    "        raise TypeError(\"Parameter 'long' must be a boolean. \")\n",
    "\n",
    "    return {\n",
    "            1: \"Monday\", 2: \"Tuesday\", 3: \"Wednesday\", 4: \"Thursday\", 5: \"Friday\", 6: \"Saturday\", 7: \"Sunday\"\n",
    "        }[k] if long else {\n",
    "            1: \"Mon\", 2: \"Tue\", 3: \"Wed\", 4: \"Thur\", 5: \"Fri\", 6: \"Sat\", 7: \"Sun\"\n",
    "        }[k]\n",
    "\n",
    "pd.set_option('display.float_format', lambda x: '%.3f' % x)"
   ]
  },
  {
   "cell_type": "code",
   "execution_count": 7,
   "metadata": {},
   "outputs": [],
   "source": [
    "# Create a 'duration' column next to start & end date/time columns\n",
    "df_22[\"started_at\"] = pd.to_datetime(df_22[\"started_at\"])\n",
    "df_22[\"ended_at\"] = pd.to_datetime(df_22[\"ended_at\"])\n",
    "df_22[\"duration\"] = df_22[\"ended_at\"] - df_22[\"started_at\"]\n",
    "\n",
    "# Create month & day of week columns next to duration column\n",
    "df_22[\"day_of_week\"] = df_22[\"started_at\"].dt.day_of_week + 1\n",
    "df_22[\"day_of_week_str\"] = (df_22[\"day_of_week\"]).apply(get_day, long=False)\n",
    "df_22[\"month\"] = df_22[\"started_at\"].dt.month\n",
    "\n",
    "df_22 = df_22[[\"ride_id\", \"rideable_type\", \"started_at\", \"ended_at\", \"duration\", \"day_of_week\", \"day_of_week_str\", \"month\", \"start_station_name\",\"start_station_id\",\t\"end_station_name\",\t\"end_station_id\", \"start_lat\", \"start_lng\", \"end_lat\", \"end_lng\", \"member_casual\"]] "
   ]
  },
  {
   "cell_type": "code",
   "execution_count": 8,
   "metadata": {},
   "outputs": [],
   "source": [
    "# More attributes, appended to end\n",
    "\n",
    "# Create a month column \n",
    "df_22[\"month\"] = df_22[\"started_at\"].dt.month\n",
    "\n",
    "# Create an hour column\n",
    "df_22[\"hour\"] = df_22[\"started_at\"].dt.hour"
   ]
  },
  {
   "cell_type": "markdown",
   "metadata": {},
   "source": [
    "**Validating numeric ranges**"
   ]
  },
  {
   "cell_type": "code",
   "execution_count": 9,
   "metadata": {},
   "outputs": [
    {
     "name": "stdout",
     "output_type": "stream",
     "text": [
      "Num of non-positive durations: 531\n"
     ]
    }
   ],
   "source": [
    "# Get rid of zero or negative length rides.\n",
    "print(\"Num of non-positive durations:\", df_22[df_22[\"duration\"].dt.total_seconds() <= 0].shape[0]) \n",
    "df_22 = df_22.drop(df_22[df_22[\"duration\"].dt.total_seconds() <= 0].index)"
   ]
  },
  {
   "cell_type": "code",
   "execution_count": 10,
   "metadata": {},
   "outputs": [
    {
     "name": "stdout",
     "output_type": "stream",
     "text": [
      "Unique start and end months: [ 1  2  3  4  5  6  7  8  9 10 11 12] [ 1  2  3  4  5  6  7  8  9 10 11 12]\n",
      "Unique start and end years: [2022] [2022 2023]\n",
      "Min and Max start and end dates: 1 31 1 31\n"
     ]
    }
   ],
   "source": [
    "# Make sure all rides are started in the correct month and year, and a sensical day\n",
    "print(\"Unique start and end months:\", df_22[\"started_at\"].dt.month.unique(), df_22[\"ended_at\"].dt.month.unique())\n",
    "print(\"Unique start and end years:\", df_22[\"started_at\"].dt.year.unique(), df_22[\"ended_at\"].dt.year.unique())\n",
    "print(\"Min and Max start and end dates:\", df_22[\"started_at\"].dt.day.min(), df_22[\"started_at\"].dt.day.max(), df_22[\"ended_at\"].dt.day.min(), df_22[\"ended_at\"].dt.day.max())"
   ]
  },
  {
   "cell_type": "code",
   "execution_count": 11,
   "metadata": {},
   "outputs": [
    {
     "data": {
      "text/html": [
       "<div>\n",
       "<style scoped>\n",
       "    .dataframe tbody tr th:only-of-type {\n",
       "        vertical-align: middle;\n",
       "    }\n",
       "\n",
       "    .dataframe tbody tr th {\n",
       "        vertical-align: top;\n",
       "    }\n",
       "\n",
       "    .dataframe thead th {\n",
       "        text-align: right;\n",
       "    }\n",
       "</style>\n",
       "<table border=\"1\" class=\"dataframe\">\n",
       "  <thead>\n",
       "    <tr style=\"text-align: right;\">\n",
       "      <th></th>\n",
       "      <th>start_lat</th>\n",
       "      <th>start_lng</th>\n",
       "      <th>end_lat</th>\n",
       "      <th>end_lng</th>\n",
       "    </tr>\n",
       "  </thead>\n",
       "  <tbody>\n",
       "    <tr>\n",
       "      <th>min</th>\n",
       "      <td>41.640</td>\n",
       "      <td>-87.840</td>\n",
       "      <td>0.000</td>\n",
       "      <td>-88.140</td>\n",
       "    </tr>\n",
       "    <tr>\n",
       "      <th>max</th>\n",
       "      <td>45.635</td>\n",
       "      <td>-73.796</td>\n",
       "      <td>42.370</td>\n",
       "      <td>0.000</td>\n",
       "    </tr>\n",
       "  </tbody>\n",
       "</table>\n",
       "</div>"
      ],
      "text/plain": [
       "     start_lat  start_lng  end_lat  end_lng\n",
       "min     41.640    -87.840    0.000  -88.140\n",
       "max     45.635    -73.796   42.370    0.000"
      ]
     },
     "execution_count": 11,
     "metadata": {},
     "output_type": "execute_result"
    }
   ],
   "source": [
    "# Make sure lower and upper bounds of start and end coordinates make sense\n",
    "df_22[[\"start_lat\", \"start_lng\", \"end_lat\", \"end_lng\"]].describe().loc[[\"min\", \"max\"]]"
   ]
  },
  {
   "cell_type": "markdown",
   "metadata": {},
   "source": [
    "**Check for docked bikes removed by \"HQ QR\" for quality checks**"
   ]
  },
  {
   "cell_type": "code",
   "execution_count": 12,
   "metadata": {},
   "outputs": [
    {
     "data": {
      "text/html": [
       "<div>\n",
       "<style scoped>\n",
       "    .dataframe tbody tr th:only-of-type {\n",
       "        vertical-align: middle;\n",
       "    }\n",
       "\n",
       "    .dataframe tbody tr th {\n",
       "        vertical-align: top;\n",
       "    }\n",
       "\n",
       "    .dataframe thead th {\n",
       "        text-align: right;\n",
       "    }\n",
       "</style>\n",
       "<table border=\"1\" class=\"dataframe\">\n",
       "  <thead>\n",
       "    <tr style=\"text-align: right;\">\n",
       "      <th></th>\n",
       "      <th>ride_id</th>\n",
       "      <th>rideable_type</th>\n",
       "      <th>started_at</th>\n",
       "      <th>ended_at</th>\n",
       "      <th>duration</th>\n",
       "      <th>day_of_week</th>\n",
       "      <th>day_of_week_str</th>\n",
       "      <th>month</th>\n",
       "      <th>start_station_name</th>\n",
       "      <th>start_station_id</th>\n",
       "      <th>end_station_name</th>\n",
       "      <th>end_station_id</th>\n",
       "      <th>start_lat</th>\n",
       "      <th>start_lng</th>\n",
       "      <th>end_lat</th>\n",
       "      <th>end_lng</th>\n",
       "      <th>member_casual</th>\n",
       "      <th>hour</th>\n",
       "    </tr>\n",
       "  </thead>\n",
       "  <tbody>\n",
       "  </tbody>\n",
       "</table>\n",
       "</div>"
      ],
      "text/plain": [
       "Empty DataFrame\n",
       "Columns: [ride_id, rideable_type, started_at, ended_at, duration, day_of_week, day_of_week_str, month, start_station_name, start_station_id, end_station_name, end_station_id, start_lat, start_lng, end_lat, end_lng, member_casual, hour]\n",
       "Index: []"
      ]
     },
     "execution_count": 12,
     "metadata": {},
     "output_type": "execute_result"
    }
   ],
   "source": [
    "df_22[df_22[\"start_station_name\"] == \"HQ QR\"]"
   ]
  },
  {
   "cell_type": "markdown",
   "metadata": {},
   "source": [
    "**Check for duplicates**"
   ]
  },
  {
   "cell_type": "code",
   "execution_count": 13,
   "metadata": {},
   "outputs": [
    {
     "data": {
      "text/plain": [
       "0"
      ]
     },
     "execution_count": 13,
     "metadata": {},
     "output_type": "execute_result"
    }
   ],
   "source": [
    "sum(df_22.duplicated())"
   ]
  },
  {
   "cell_type": "markdown",
   "metadata": {},
   "source": [
    "**Check for typoes**\n",
    "The only feasible columns to check here are rideable_type and member_casual. "
   ]
  },
  {
   "cell_type": "code",
   "execution_count": 14,
   "metadata": {},
   "outputs": [
    {
     "name": "stdout",
     "output_type": "stream",
     "text": [
      "rideable_type\n",
      "electric_bike    2886795\n",
      "classic_bike     2599349\n",
      "docked_bike       177354\n",
      "Name: count, dtype: int64\n",
      "member_casual\n",
      "member    3343230\n",
      "casual    2320268\n",
      "Name: count, dtype: int64\n"
     ]
    }
   ],
   "source": [
    "for col in [\"rideable_type\", \"member_casual\"]:\n",
    "    print(df_22[col].value_counts())"
   ]
  },
  {
   "cell_type": "markdown",
   "metadata": {},
   "source": [
    "**Identify outliers** We choose not to do anything with them yet as their quantity is relatively small, at 7000 rows compared to the 5 million of the whole year's dataset. If we use an ML model which requires outliers be eliminated, we will address them then. "
   ]
  },
  {
   "cell_type": "code",
   "execution_count": 15,
   "metadata": {},
   "outputs": [
    {
     "data": {
      "text/plain": [
       "7393"
      ]
     },
     "execution_count": 15,
     "metadata": {},
     "output_type": "execute_result"
    }
   ],
   "source": [
    "df_22[np.abs(stats.zscore(df_22[\"duration\"].dt.total_seconds())) > 4].shape[0]"
   ]
  },
  {
   "cell_type": "code",
   "execution_count": 16,
   "metadata": {},
   "outputs": [
    {
     "data": {
      "text/plain": [
       "<AxesSubplot:>"
      ]
     },
     "execution_count": 16,
     "metadata": {},
     "output_type": "execute_result"
    },
    {
     "data": {
      "image/png": "[encoded data removed]",
      "text/plain": [
       "<Figure size 432x288 with 1 Axes>"
      ]
     },
     "metadata": {
      "needs_background": "light"
     },
     "output_type": "display_data"
    }
   ],
   "source": [
    "# Graph most of the durations. The durations are skewed left, informing us to use boxplots and medians going forward as metrics, rather than mean and z-scores\n",
    "df_22[np.abs(stats.zscore(df_22[\"duration\"].dt.total_seconds())) < 2][\"duration\"].dt.total_seconds().hist(bins=50)"
   ]
  },
  {
   "cell_type": "markdown",
   "metadata": {},
   "source": [
    "# Analysis -- Descriptive Statistics\n",
    "\n",
    "NOTE: The writing found in this section will differ from that in the final report. \n",
    "\n",
    "In this phase, we organize our data, identify trends and relationships, and perform calculations. These insights will be useful in answering the Business Question about what characterizes casual riders and member riders. We perform the following analyses: \n",
    "\n",
    "For each month, grouped by membership type, calculate:\n",
    "\n",
    "1. Average and Median of Duration \n",
    "2. Average and Median of Duration by Membership Type Per Week Day\n",
    "3. Bike Usage Frequency by Membership and Day of the Week\n",
    "4. Bike Usage Frequency by Membership and Month of the Year \n",
    "5. Bike Usage Frequency by Membership and Time of Day\n",
    "6. Proportion of membership type population by rideable_type (electric, classic, or docked)\n",
    " "
   ]
  },
  {
   "cell_type": "markdown",
   "metadata": {},
   "source": [
    "**1. Average and Median of Duration** From the stats and boxplots, it is evident that casual riders are significantly more likely to have longer rides than member riders. There is still overlap between the two populations. \n",
    "\n",
    "Given these facts, in the effort to convert casual riders to members, it would be reasonable tailor advertisements geared toward both \"short\" and \"long\" riders. "
   ]
  },
  {
   "cell_type": "code",
   "execution_count": 17,
   "metadata": {},
   "outputs": [
    {
     "name": "stdout",
     "output_type": "stream",
     "text": [
      "count                      2320268\n",
      "mean     0 days 00:29:09.092635850\n",
      "std      0 days 04:32:42.482020955\n",
      "min                0 days 00:00:01\n",
      "25%                0 days 00:07:20\n",
      "50%                0 days 00:13:00\n",
      "75%                0 days 00:24:06\n",
      "max               28 days 17:47:15\n",
      "Name: duration, dtype: object\n",
      "count                      3343230\n",
      "mean     0 days 00:12:42.898380009\n",
      "std      0 days 00:28:48.422377466\n",
      "min                0 days 00:00:01\n",
      "25%                0 days 00:05:07\n",
      "50%                0 days 00:08:50\n",
      "75%                0 days 00:15:16\n",
      "max                1 days 01:59:54\n",
      "Name: duration, dtype: object\n"
     ]
    }
   ],
   "source": [
    "print(df_22[df_22[\"member_casual\"] == \"casual\"][\"duration\"].describe())\n",
    "print(df_22[df_22[\"member_casual\"] == \"member\"][\"duration\"].describe())\n",
    "\n",
    "# alternatively with a pivot table:\n",
    "#pivot_1 = df_22.pivot_table(values=[\"duration\"], index=[\"member_casual\"], aggfunc={\"duration\": [np.median, np.mean]})\n",
    "#print(pivot_1)"
   ]
  },
  {
   "cell_type": "code",
   "execution_count": 18,
   "metadata": {},
   "outputs": [],
   "source": [
    "c_durations = df_22[df_22[\"member_casual\"] == \"casual\"][[\"duration\"]]\n",
    "c_durations[\"duration\"] = c_durations[\"duration\"].dt.total_seconds() / 60\n",
    "\n",
    "m_durations = df_22[df_22[\"member_casual\"] == \"member\"][[\"duration\"]]\n",
    "m_durations[\"duration\"] = m_durations[\"duration\"].dt.total_seconds() / 60"
   ]
  },
  {
   "cell_type": "code",
   "execution_count": 19,
   "metadata": {},
   "outputs": [
    {
     "data": {
      "image/png": "[encoded data removed]",
      "text/plain": [
       "<Figure size 720x360 with 2 Axes>"
      ]
     },
     "metadata": {
      "needs_background": "light"
     },
     "output_type": "display_data"
    }
   ],
   "source": [
    "# Create two boxplots, one for casual and one for member\n",
    "fig, axs = plt.subplots(1, 2, figsize=(10, 5))\n",
    "\n",
    "c_durations.boxplot(ax=axs[0], showfliers=False, grid=True, ylabel=\"Ride Duration (minutes)\")\n",
    "axs[0].set_title('Casual Durations')\n",
    "axs[0].set_ylim(-5, 50)\n",
    "axs[0].set_yticks(range(-5, 50 + 1, 5))\n",
    "\n",
    "\n",
    "m_durations.boxplot(ax=axs[1], showfliers=False, grid=True, ylabel=\"Ride Duration (minutes)\")\n",
    "axs[1].set_title('Member Durations')\n",
    "axs[1].set_ylim(-5, 50)\n",
    "axs[1].set_yticks(range(-5, 50 + 1, 5))\n",
    "\n",
    "# Adjust layout and display the plots\n",
    "plt.tight_layout()\n",
    "plt.show()"
   ]
  },
  {
   "cell_type": "markdown",
   "metadata": {},
   "source": [
    "**2. Average and Median of Duration by Membership Type Per Week Day** \n",
    "* We have across all weekdays that casual riders are more likely to ride for a longer duration than membership riders. \n",
    "* The duration for membership riders on the weekdays is very consistent, while that of casual riders is comparatively more variable. \n",
    "* Both riders tend to have longer rides than the weekends and Friday than on the weekdays Monday through Thursday.  \n",
    "\n",
    "These trends could be because casual riders ride mainly for recreation or getting to faraway places on Fridays and the weekends, and member riders use the bikes mainly to commute to work or school everyday. These hypotheses are further bolstered by the findings in the following sections 3 and 4. \n",
    "\n",
    "Administering a survey to both groups for their reasons for using the bikes would help clarify the exact reasons, but we believe it is safe to assume casual riders are more likely to ride for occasional recreation than as a consistent means of transportation. "
   ]
  },
  {
   "cell_type": "code",
   "execution_count": 20,
   "metadata": {},
   "outputs": [],
   "source": [
    "# TimeDelta object doesn't have a minutes attribute, so we circumvent that by dividing total seconds by 60\n",
    "avg_ride_len_by_mem = df_22.groupby(by=[\"day_of_week\", \"member_casual\"])[\"duration\"].mean().reset_index()\n",
    "avg_ride_len_by_mem[\"duration\"] = round(avg_ride_len_by_mem[\"duration\"].dt.total_seconds()/60, 2)\n",
    "avg_ride_len_by_mem = avg_ride_len_by_mem.pivot(index=\"day_of_week\", columns=\"member_casual\", values=\"duration\").reset_index().rename(columns={\"casual\":\"casual mean duration (min)\", \"member\":\"member mean duration (min)\"})"
   ]
  },
  {
   "cell_type": "code",
   "execution_count": 21,
   "metadata": {},
   "outputs": [],
   "source": [
    "med_ride_len_by_mem = df_22.groupby(by=[\"day_of_week\", \"member_casual\"])[\"duration\"].median().reset_index()\n",
    "med_ride_len_by_mem[\"duration\"] = round(med_ride_len_by_mem[\"duration\"].dt.total_seconds()/60, 2)\n",
    "med_ride_len_by_mem = med_ride_len_by_mem.pivot(index=\"day_of_week\", columns=\"member_casual\", values=\"duration\").reset_index().rename(columns={\"casual\":\"casual median duration (min)\", \"member\":\"member median duration (min)\"})"
   ]
  },
  {
   "cell_type": "code",
   "execution_count": 22,
   "metadata": {},
   "outputs": [
    {
     "data": {
      "image/png": "[encoded data removed]",
      "text/plain": [
       "<Figure size 720x360 with 2 Axes>"
      ]
     },
     "metadata": {
      "needs_background": "light"
     },
     "output_type": "display_data"
    }
   ],
   "source": [
    "fig, axs = plt.subplots(1, 2, figsize=(10, 5))\n",
    "avg_ride_len_by_mem.plot(ax=axs[0], kind=\"bar\", x=\"day_of_week\", y=[\"casual mean duration (min)\", \"member mean duration (min)\"], title=\"Mean Ride Duration by Membership Status\", grid=True, xlabel=\"Day of Week\", ylabel=\"Minutes\", color=[\"deepskyblue\", \"orange\"], legend=False)\n",
    "axs[0].bar_label(axs[0].containers[0])\n",
    "axs[0].bar_label(axs[0].containers[1])\n",
    "#ax.legend(loc='center left', bbox_to_anchor=(1, 0.5))\n",
    "\n",
    "med_ride_len_by_mem.plot(ax=axs[1], kind=\"bar\", x=\"day_of_week\", y=[\"casual median duration (min)\", \"member median duration (min)\"], title=\"Median Ride Duration by Membership Status\", grid=True, xlabel=\"Day of Week\", ylabel=\"Minutes\", ylim=(0,35), color=[\"deepskyblue\", \"orange\"])\n",
    "axs[1].bar_label(axs[1].containers[0])\n",
    "axs[1].bar_label(axs[1].containers[1])\n",
    "#axs.legend(loc='center left', bbox_to_anchor=(1, 0.5))\n",
    "\n",
    "# Adjust layout and display the plots\n",
    "plt.tight_layout()\n",
    "plt.show()"
   ]
  },
  {
   "cell_type": "markdown",
   "metadata": {},
   "source": [
    "**3. Bike Usage Frequency by Day of the Week** We have that member riders are more likely to ride on weekdays with weekends having the lower number of rides, and that casual riders are the opposite -- they are more likely to ride on weekends than they are any given weekday. \n",
    "\n",
    "We hypothesize that member riders are more likely to use the bicycles to commute to work on the weekdays (Mon-Fri), and casual riders are more likely to use them for recreation on Fridays and weekends (Fri-Sun). \n",
    "\n",
    "-- this section can be combined with Section 2 tbh "
   ]
  },
  {
   "cell_type": "code",
   "execution_count": 23,
   "metadata": {},
   "outputs": [],
   "source": [
    "# Separating into the two membership groups\n",
    "casuals = df_22[df_22[\"member_casual\"] == \"casual\"]\n",
    "members = df_22[df_22[\"member_casual\"] == \"member\"]"
   ]
  },
  {
   "cell_type": "code",
   "execution_count": 24,
   "metadata": {},
   "outputs": [
    {
     "name": "stdout",
     "output_type": "stream",
     "text": [
      "Casual day_of_week rankings: day_of_week\n",
      "6    472820\n",
      "7    388755\n",
      "5    334449\n",
      "4    309076\n",
      "1    277460\n",
      "3    274156\n",
      "2    263552\n",
      "Name: count, dtype: int64\n",
      "Member day_of_week rankings: day_of_week\n",
      "4    531874\n",
      "3    523497\n",
      "2    518205\n",
      "1    472999\n",
      "5    466767\n",
      "6    442955\n",
      "7    386933\n",
      "Name: count, dtype: int64\n"
     ]
    },
    {
     "data": {
      "text/plain": [
       "<matplotlib.legend.Legend at 0x1b9b23da760>"
      ]
     },
     "execution_count": 24,
     "metadata": {},
     "output_type": "execute_result"
    },
    {
     "data": {
      "image/png": "[encoded data removed]",
      "text/plain": [
       "<Figure size 432x288 with 1 Axes>"
      ]
     },
     "metadata": {
      "needs_background": "light"
     },
     "output_type": "display_data"
    }
   ],
   "source": [
    "print(\"Casual day_of_week rankings:\", casuals[\"day_of_week\"].value_counts())\n",
    "print(\"Member day_of_week rankings:\", members[\"day_of_week\"].value_counts())\n",
    "\n",
    "# adapt the code from the monthly proportions. it's the same format\n",
    "\n",
    "#casuals[\"day_of_week\"].value_counts().reset_index().sort_values(\"day_of_week\").reset_index(drop=True).plot(kind=\"bar\")\n",
    "#members[\"day_of_week\"].value_counts().reset_index().sort_values(\"day_of_week\").reset_index(drop=True).plot(kind=\"bar\")\n",
    "\n",
    "day_proportions = df_22.groupby(by=[\"member_casual\", \"day_of_week\"])[\"ride_id\"].count().reset_index().pivot(index=\"day_of_week\", columns=\"member_casual\", values=\"ride_id\")\n",
    "day_proportions[\"casual\"] = day_proportions[\"casual\"] / casuals.shape[0] \n",
    "day_proportions[\"member\"] = day_proportions[\"member\"] / members.shape[0] \n",
    "#month_proportions = month_proportions.rename(columns={\"member_casual\": \"month\"})\n",
    "\n",
    "ax = day_proportions.plot(kind=\"line\", grid=True, ylabel=\"Proportion of Casual/Member Rides\", title=\"Ride Frequency by Membership and Day of Week\", xticks=range(1,8), yticks=np.arange(0,0.22,0.02), color=[\"deepskyblue\", \"orange\"], marker='o')\n",
    "ax.legend([\"Casual (n=2.3m)\", \"Member (n=3.3m)\"], loc='center left', bbox_to_anchor=(1, 0.5))"
   ]
  },
  {
   "cell_type": "markdown",
   "metadata": {},
   "source": [
    "**4. Bike Usage Frequency by Membership and Month of the Year**"
   ]
  },
  {
   "cell_type": "code",
   "execution_count": 25,
   "metadata": {},
   "outputs": [
    {
     "data": {
      "text/plain": [
       "<AxesSubplot:title={'center':'Member Ride Frequency Proportions by Month'}, xlabel='month', ylabel='Proportion of all Member Rides (n=3.3m)'>"
      ]
     },
     "execution_count": 25,
     "metadata": {},
     "output_type": "execute_result"
    },
    {
     "data": {
      "image/png": "[encoded data removed]",
      "text/plain": [
       "<Figure size 720x360 with 2 Axes>"
      ]
     },
     "metadata": {
      "needs_background": "light"
     },
     "output_type": "display_data"
    }
   ],
   "source": [
    "fig, axs = plt.subplots(1, 2, figsize=(10, 5))\n",
    "\n",
    "round(casuals.groupby(by=[\"month\"])[\"ride_id\"].count()/casuals.shape[0] * 100, 2).plot(ax=axs[0], kind=\"bar\", ylim=(0,20), grid=True, title=\"Casual Ride Frequency Proportions by Month\", ylabel=\"Proportion of all Casual Rides (n=2.3m)\", color=[\"deepskyblue\"])\n",
    "\n",
    "round(members.groupby(by=[\"month\"])[\"ride_id\"].count()/members.shape[0] * 100, 2).plot(ax=axs[1], kind=\"bar\", ylim=(0,20), grid=True, title=\"Member Ride Frequency Proportions by Month\", ylabel=\"Proportion of all Member Rides (n=3.3m)\", color=[\"orange\"])"
   ]
  },
  {
   "cell_type": "code",
   "execution_count": 26,
   "metadata": {},
   "outputs": [
    {
     "data": {
      "text/plain": [
       "<matplotlib.legend.Legend at 0x1b9b2442ee0>"
      ]
     },
     "execution_count": 26,
     "metadata": {},
     "output_type": "execute_result"
    },
    {
     "data": {
      "image/png": "[encoded data removed]",
      "text/plain": [
       "<Figure size 432x288 with 1 Axes>"
      ]
     },
     "metadata": {
      "needs_background": "light"
     },
     "output_type": "display_data"
    }
   ],
   "source": [
    "month_proportions = df_22.groupby(by=[\"member_casual\", \"month\"])[\"ride_id\"].count().reset_index().pivot(index=\"month\", columns=\"member_casual\", values=\"ride_id\")\n",
    "month_proportions[\"casual\"] = month_proportions[\"casual\"] / casuals.shape[0] \n",
    "month_proportions[\"member\"] = month_proportions[\"member\"] / members.shape[0] \n",
    "#month_proportions = month_proportions.rename(columns={\"member_casual\": \"month\"})\n",
    "\n",
    "ax = month_proportions.plot(kind=\"line\", grid=True, ylabel=\"Proportion of Casual/Member Rides\", title=\"Ride Frequency by Membership and Month\", xticks=range(1,13), color=[\"deepskyblue\", \"orange\"], marker='o')\n",
    "ax.legend([\"Casual (n=2.3m)\", \"Member (n=3.3m)\"], loc='center left', bbox_to_anchor=(1, 0.5))"
   ]
  },
  {
   "cell_type": "markdown",
   "metadata": {},
   "source": [
    "**5. Bike Usage Frequency by Membership and Time of Day** We notice that the ride frequency for members significantly surpass that of casuals from 5am to 9am, and similarly during 4pm to 5pm. These are the usual times when people get off work, further validating the hypothesis that members are more likely to ride to commute to and from work. \n",
    "\n",
    "What is also interesting is that the graph of casual rides does not differ much from that of members -- having a steady rise from the morning, peaking at 5pm, and dropping off. We are unsure of why this trend is as such, but this similarity shows that our casual audience is more primed than previously inferred to purchase an membership to commute to and from work. "
   ]
  },
  {
   "cell_type": "code",
   "execution_count": 27,
   "metadata": {},
   "outputs": [
    {
     "data": {
      "image/png": "[encoded data removed]",
      "text/plain": [
       "<Figure size 648x432 with 1 Axes>"
      ]
     },
     "metadata": {
      "needs_background": "light"
     },
     "output_type": "display_data"
    }
   ],
   "source": [
    "hour_freqs = df_22.groupby(by=[\"member_casual\", \"hour\"])[\"ride_id\"].count().to_frame().reset_index()\n",
    "hour_freqs = hour_freqs.pivot(index=\"hour\", columns=\"member_casual\", values=\"ride_id\")\n",
    "hour_freqs[\"casual\"] = hour_freqs[\"casual\"] / casuals.shape[0] \n",
    "hour_freqs[\"member\"] = hour_freqs[\"member\"] / members.shape[0] \n",
    "ax = hour_freqs.plot(kind=\"line\", figsize=(9,6), xticks=range(0,24), yticks=np.arange(0, 0.11, step=0.01), xlabel=\"Hour\", ylabel=\"Proportion of Casual/Member Rides\", color=[\"deepskyblue\", \"lightcoral\"], marker='o', title=\"Ride Frequency by Membership and Hour of Day\")\n",
    "ax.yaxis.grid(True)\n",
    "ax.legend([\"Casual (n=2.3m)\", \"Member (n=3.3m)\"], loc='center left', bbox_to_anchor=(1, 0.5));"
   ]
  },
  {
   "cell_type": "markdown",
   "metadata": {},
   "source": [
    "**6. Ride Type Composition by membership status** The compositions are roughly the same, with casual members having a slight preference for electric bikes. The similarity between the compositions will not   "
   ]
  },
  {
   "cell_type": "code",
   "execution_count": 28,
   "metadata": {},
   "outputs": [
    {
     "data": {
      "text/plain": [
       "(rideable_type\n",
       " electric_bike   53.960\n",
       " classic_bike    38.390\n",
       " docked_bike      7.640\n",
       " Name: count, dtype: float64,\n",
       " rideable_type\n",
       " electric_bike   48.900\n",
       " classic_bike    51.100\n",
       " Name: count, dtype: float64)"
      ]
     },
     "execution_count": 28,
     "metadata": {},
     "output_type": "execute_result"
    }
   ],
   "source": [
    "round(casuals[\"rideable_type\"].value_counts()/casuals.shape[0] * 100, 2), round(members[\"rideable_type\"].value_counts()/members.shape[0] * 100, 2).sort_index(ascending=False)\n",
    "# pie chart"
   ]
  },
  {
   "cell_type": "code",
   "execution_count": null,
   "metadata": {},
   "outputs": [],
   "source": []
  },
  {
   "cell_type": "code",
   "execution_count": 29,
   "metadata": {},
   "outputs": [
    {
     "data": {
      "text/plain": [
       "<AxesSubplot:title={'center':'Composition of Bike Types of Member Riders'}>"
      ]
     },
     "execution_count": 29,
     "metadata": {},
     "output_type": "execute_result"
    },
    {
     "data": {
      "image/png": "[encoded data removed]",
      "text/plain": [
       "<Figure size 720x360 with 2 Axes>"
      ]
     },
     "metadata": {},
     "output_type": "display_data"
    }
   ],
   "source": [
    "fig, axs = plt.subplots(1, 2, figsize=(10, 5))\n",
    "\n",
    "round(casuals[\"rideable_type\"].value_counts()/casuals.shape[0] * 100, 2).plot(ax=axs[0], kind=\"pie\", title=\"Composition of Bike Types of Casual Riders\", ylabel=\"\", legend=False, autopct='%1.1f%%', shadow=True, startangle=0, colors=[\"yellow\", \"darkturquoise\", \"gray\"])\n",
    "\n",
    "round(members[\"rideable_type\"].value_counts()/members.shape[0] * 100, 2).sort_index(ascending=False).plot(ax=axs[1], kind=\"pie\", title=\"Composition of Bike Types of Member Riders\", ylabel=\"\", legend=False, autopct='%1.1f%%', shadow=True, startangle=0, colors=[\"yellow\", \"darkturquoise\"])"
   ]
  }
 ],
 "metadata": {
  "kernelspec": {
   "display_name": "Python 3",
   "language": "python",
   "name": "python3"
  },
  "language_info": {
   "codemirror_mode": {
    "name": "ipython",
    "version": 3
   },
   "file_extension": ".py",
   "mimetype": "text/x-python",
   "name": "python",
   "nbconvert_exporter": "python",
   "pygments_lexer": "ipython3",
   "version": "3.9.7"
  },
  "orig_nbformat": 4
 },
 "nbformat": 4,
 "nbformat_minor": 2
}
